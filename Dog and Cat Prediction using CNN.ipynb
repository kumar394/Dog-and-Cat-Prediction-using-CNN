{
 "cells": [
  {
   "cell_type": "markdown",
   "metadata": {},
   "source": [
    "# Building the CNN"
   ]
  },
  {
   "cell_type": "code",
   "execution_count": 1,
   "metadata": {},
   "outputs": [
    {
     "name": "stderr",
     "output_type": "stream",
     "text": [
      "Using TensorFlow backend.\n"
     ]
    }
   ],
   "source": [
    "#importing keras libraries and package\n",
    "from keras.models import Sequential\n",
    "from keras.layers import Convolution2D\n",
    "from keras.layers import Convolution2D\n",
    "from keras.layers import MaxPooling2D\n",
    "from keras.layers import Flatten\n",
    "from keras.layers import Dense\n",
    "import os"
   ]
  },
  {
   "cell_type": "code",
   "execution_count": 2,
   "metadata": {},
   "outputs": [],
   "source": [
    "#initializing CNN\n",
    "cnn_classifier= Sequential()\n",
    "#convolution layer\n",
    "cnn_classifier.add(Convolution2D(32, (3,3), input_shape = (64,64, 3), activation= \"relu\"))\n",
    "#maxpooling\n",
    "cnn_classifier.add(MaxPooling2D(pool_size= (2,2)))\n",
    "\n",
    "#adding second conv layer\n",
    "cnn_classifier.add(Convolution2D(32, (3,3), activation= \"relu\"))\n",
    "cnn_classifier.add(MaxPooling2D(pool_size= (2,2)))\n",
    "\n",
    "#Flattening\n",
    "cnn_classifier.add(Flatten())\n",
    "#full connection\n",
    "cnn_classifier.add(Dense(128, activation= \"relu\"))\n",
    "cnn_classifier.add(Dense(1, activation= \"sigmoid\"))"
   ]
  },
  {
   "cell_type": "code",
   "execution_count": 3,
   "metadata": {},
   "outputs": [],
   "source": [
    "#compiling the CNN\n",
    "cnn_classifier.compile(optimizer= \"adam\", loss= \"binary_crossentropy\", metrics= [\"accuracy\"])"
   ]
  },
  {
   "cell_type": "markdown",
   "metadata": {},
   "source": [
    "# Image Preprocessing"
   ]
  },
  {
   "cell_type": "code",
   "execution_count": 4,
   "metadata": {},
   "outputs": [
    {
     "name": "stdout",
     "output_type": "stream",
     "text": [
      "Found 8000 images belonging to 2 classes.\n",
      "Found 2000 images belonging to 2 classes.\n",
      "Epoch 1/5\n",
      "8000/8000 [==============================] - 2655s 332ms/step - loss: 0.3387 - accuracy: 0.8427 - val_loss: 0.4590 - val_accuracy: 0.8093\n",
      "Epoch 2/5\n",
      "8000/8000 [==============================] - 3023s 378ms/step - loss: 0.0926 - accuracy: 0.9656 - val_loss: 0.7998 - val_accuracy: 0.8035\n",
      "Epoch 3/5\n",
      "8000/8000 [==============================] - 3117s 390ms/step - loss: 0.0482 - accuracy: 0.9829 - val_loss: 0.5449 - val_accuracy: 0.7898\n",
      "Epoch 4/5\n",
      "8000/8000 [==============================] - 1512s 189ms/step - loss: 0.0360 - accuracy: 0.9875 - val_loss: 0.6067 - val_accuracy: 0.8043\n",
      "Epoch 5/5\n",
      "8000/8000 [==============================] - 1582s 198ms/step - loss: 0.0290 - accuracy: 0.9901 - val_loss: 1.0342 - val_accuracy: 0.7935\n"
     ]
    },
    {
     "data": {
      "text/plain": [
       "<keras.callbacks.callbacks.History at 0x246fa15d208>"
      ]
     },
     "execution_count": 4,
     "metadata": {},
     "output_type": "execute_result"
    }
   ],
   "source": [
    "#image augmentation\n",
    "# keras preprocessing documentation link: https://keras.io/api/preprocessing/image/\n",
    "from keras.preprocessing.image import ImageDataGenerator\n",
    "train_datagen = ImageDataGenerator(\n",
    "        rescale=1./255,\n",
    "        shear_range=0.2,\n",
    "        zoom_range=0.2,\n",
    "        horizontal_flip=True)\n",
    "\n",
    "test_datagen = ImageDataGenerator(rescale=1./255)\n",
    "#applying image augmentation on training data\n",
    "training_set = train_datagen.flow_from_directory('Part 2 - Convolutional Neural Networks (CNN)\\\\Section 8 - Building a CNN\\\\dataset\\\\training_set',\n",
    "                                                target_size=(64, 64),\n",
    "                                                batch_size=32,\n",
    "                                                class_mode='binary')\n",
    "\n",
    "#applying image augmentation on test data\n",
    "test_set = test_datagen.flow_from_directory('Part 2 - Convolutional Neural Networks (CNN)\\\\Section 8 - Building a CNN\\\\dataset\\\\test_set',\n",
    "                                                        target_size=(64, 64),\n",
    "                                                        batch_size=32,\n",
    "                                                        class_mode='binary')\n",
    "#fitting the model\n",
    "cnn_classifier.fit(training_set,\n",
    "                    steps_per_epoch=8000,\n",
    "                    epochs=5,\n",
    "                    validation_data=test_set,\n",
    "                    validation_steps=2000)"
   ]
  },
  {
   "cell_type": "markdown",
   "metadata": {},
   "source": [
    "# Prediction on new image"
   ]
  },
  {
   "cell_type": "code",
   "execution_count": 9,
   "metadata": {},
   "outputs": [
    {
     "data": {
      "text/plain": [
       "{'cats': 0, 'dogs': 1}"
      ]
     },
     "execution_count": 9,
     "metadata": {},
     "output_type": "execute_result"
    }
   ],
   "source": [
    "training_set.class_indices"
   ]
  },
  {
   "cell_type": "code",
   "execution_count": 14,
   "metadata": {},
   "outputs": [
    {
     "data": {
      "image/png": "[encoded data removed]",
      "text/plain": [
       "<PIL.Image.Image image mode=RGB size=64x64 at 0x246FA84EBE0>"
      ]
     },
     "execution_count": 14,
     "metadata": {},
     "output_type": "execute_result"
    }
   ],
   "source": [
    "import numpy as np\n",
    "from keras.preprocessing import image\n",
    "test_image1= image.load_img(\"Part 2 - Convolutional Neural Networks (CNN)\\\\Section 8 - Building a CNN\\\\dataset\\\\single_prediction\\\\cat_or_dog_1.jpg\", target_size= (64, 64))\n",
    "test_image_array= image.img_to_array(test_image1)\n",
    "test_image_array= np.expand_dims(test_image_array, axis=0)\n",
    "result= cnn_classifier.predict(test_image_array)\n",
    "if result[0][0]== 1:\n",
    "    prediction= \"dog\"\n",
    "else:\n",
    "    prediction= \"cat\"\n",
    "test_image1"
   ]
  },
  {
   "cell_type": "code",
   "execution_count": 15,
   "metadata": {},
   "outputs": [
    {
     "data": {
      "text/plain": [
       "'dog'"
      ]
     },
     "execution_count": 15,
     "metadata": {},
     "output_type": "execute_result"
    }
   ],
   "source": [
    "prediction"
   ]
  },
  {
   "cell_type": "code",
   "execution_count": 16,
   "metadata": {},
   "outputs": [
    {
     "data": {
      "image/png": "[encoded data removed]",
      "text/plain": [
       "<PIL.Image.Image image mode=RGB size=64x64 at 0x246FA0AFF98>"
      ]
     },
     "execution_count": 16,
     "metadata": {},
     "output_type": "execute_result"
    }
   ],
   "source": [
    "test_image2= image.load_img(\"Part 2 - Convolutional Neural Networks (CNN)\\\\Section 8 - Building a CNN\\\\dataset\\\\single_prediction\\\\cat_or_dog_2.jpg\", target_size= (64, 64))\n",
    "test_image_array= image.img_to_array(test_image2)\n",
    "test_image_array= np.expand_dims(test_image_array, axis=0)\n",
    "result= cnn_classifier.predict(test_image_array)\n",
    "if result[0][0]== 1:\n",
    "    prediction= \"dog\"\n",
    "else:\n",
    "    prediction= \"cat\"\n",
    "test_image2"
   ]
  },
  {
   "cell_type": "code",
   "execution_count": 17,
   "metadata": {},
   "outputs": [
    {
     "data": {
      "text/plain": [
       "'cat'"
      ]
     },
     "execution_count": 17,
     "metadata": {},
     "output_type": "execute_result"
    }
   ],
   "source": [
    "prediction"
   ]
  },
  {
   "cell_type": "code",
   "execution_count": 22,
   "metadata": {},
   "outputs": [
    {
     "data": {
      "image/png": "[encoded data removed]",
      "text/plain": [
       "<PIL.Image.Image image mode=RGB size=64x64 at 0x246FA84E9E8>"
      ]
     },
     "execution_count": 22,
     "metadata": {},
     "output_type": "execute_result"
    }
   ],
   "source": [
    "test_image3= image.load_img(\"Part 2 - Convolutional Neural Networks (CNN)\\\\Section 8 - Building a CNN\\\\dataset\\\\single_prediction\\\\cat_or_dog_3.jpg\", target_size= (64, 64))\n",
    "test_image_array= image.img_to_array(test_image3)\n",
    "test_image_array= np.expand_dims(test_image_array, axis=0)\n",
    "result= cnn_classifier.predict(test_image_array)\n",
    "if result[0][0]== 1:\n",
    "    prediction= \"dog\"\n",
    "else:\n",
    "    prediction= \"cat\"\n",
    "test_image3"
   ]
  },
  {
   "cell_type": "code",
   "execution_count": 23,
   "metadata": {},
   "outputs": [
    {
     "data": {
      "text/plain": [
       "'dog'"
      ]
     },
     "execution_count": 23,
     "metadata": {},
     "output_type": "execute_result"
    }
   ],
   "source": [
    "prediction"
   ]
  },
  {
   "cell_type": "code",
   "execution_count": 24,
   "metadata": {},
   "outputs": [
    {
     "data": {
      "image/png": "[encoded data removed]",
      "text/plain": [
       "<PIL.Image.Image image mode=RGB size=64x64 at 0x24680BB1080>"
      ]
     },
     "execution_count": 24,
     "metadata": {},
     "output_type": "execute_result"
    }
   ],
   "source": [
    "test_image4= image.load_img(\"Part 2 - Convolutional Neural Networks (CNN)\\\\Section 8 - Building a CNN\\\\dataset\\\\single_prediction\\\\cat_or_dog_4.jpg\", target_size= (64, 64))\n",
    "test_image_array= image.img_to_array(test_image3)\n",
    "test_image_array= np.expand_dims(test_image_array, axis=0)\n",
    "result= cnn_classifier.predict(test_image_array)\n",
    "if result[0][0]== 1:\n",
    "    prediction= \"dog\"\n",
    "else:\n",
    "    prediction= \"cat\"\n",
    "test_image4"
   ]
  },
  {
   "cell_type": "code",
   "execution_count": 25,
   "metadata": {},
   "outputs": [
    {
     "data": {
      "text/plain": [
       "'dog'"
      ]
     },
     "execution_count": 25,
     "metadata": {},
     "output_type": "execute_result"
    }
   ],
   "source": [
    "prediction"
   ]
  }
 ],
 "metadata": {
  "kernelspec": {
   "display_name": "Python 3",
   "language": "python",
   "name": "python3"
  },
  "language_info": {
   "codemirror_mode": {
    "name": "ipython",
    "version": 3
   },
   "file_extension": ".py",
   "mimetype": "text/x-python",
   "name": "python",
   "nbconvert_exporter": "python",
   "pygments_lexer": "ipython3",
   "version": "3.7.3"
  }
 },
 "nbformat": 4,
 "nbformat_minor": 2
}
